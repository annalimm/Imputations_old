{
 "cells": [
  {
   "cell_type": "code",
   "execution_count": 1,
   "id": "7090aac6-1ce7-4ab7-b4a8-6539e40d2d4d",
   "metadata": {},
   "outputs": [
    {
     "name": "stdout",
     "output_type": "stream",
     "text": [
      "Collecting impyute\n",
      "  Downloading impyute-0.0.8-py2.py3-none-any.whl (31 kB)\n",
      "Requirement already satisfied: scikit-learn in /Users/vladislavbushmakin/opt/anaconda3/lib/python3.8/site-packages (from impyute) (0.24.2)\n",
      "Requirement already satisfied: numpy in /Users/vladislavbushmakin/opt/anaconda3/lib/python3.8/site-packages (from impyute) (1.20.3)\n",
      "Requirement already satisfied: scipy in /Users/vladislavbushmakin/opt/anaconda3/lib/python3.8/site-packages (from impyute) (1.7.1)\n",
      "Requirement already satisfied: joblib>=0.11 in /Users/vladislavbushmakin/opt/anaconda3/lib/python3.8/site-packages (from scikit-learn->impyute) (1.0.1)\n",
      "Requirement already satisfied: threadpoolctl>=2.0.0 in /Users/vladislavbushmakin/opt/anaconda3/lib/python3.8/site-packages (from scikit-learn->impyute) (2.2.0)\n",
      "Installing collected packages: impyute\n",
      "Successfully installed impyute-0.0.8\n"
     ]
    }
   ],
   "source": [
    "!pip install impyute"
   ]
  },
  {
   "cell_type": "code",
   "execution_count": 2,
   "id": "f50e123c-ed9f-4138-bd15-7ef9f352ef39",
   "metadata": {},
   "outputs": [],
   "source": [
    "n = 5"
   ]
  },
  {
   "cell_type": "code",
   "execution_count": 8,
   "id": "bab21c56-238a-4082-a963-011455847fd4",
   "metadata": {},
   "outputs": [],
   "source": [
    "import numpy as np\n",
    "import impyute as impy"
   ]
  },
  {
   "cell_type": "code",
   "execution_count": 5,
   "id": "fbceefae-9eae-4de1-9b2f-bd834497496f",
   "metadata": {},
   "outputs": [],
   "source": [
    "arr = np.random.uniform(high=6, size=(n, n))"
   ]
  },
  {
   "cell_type": "code",
   "execution_count": 6,
   "id": "dc93e4ce-ca62-414a-ae27-cec44bce235a",
   "metadata": {},
   "outputs": [],
   "source": [
    "for _ in range(3):\n",
    "    arr[np.random.randint(n), np.random.randint(n)] = np.nan"
   ]
  },
  {
   "cell_type": "code",
   "execution_count": 7,
   "id": "714bc66f-6010-4fd2-ad3e-521b7eda596b",
   "metadata": {},
   "outputs": [
    {
     "name": "stdout",
     "output_type": "stream",
     "text": [
      "[[2.85113271 3.60784053 1.55534475 3.42075368 3.05921555]\n",
      " [0.96050226 0.3566602  1.83950483 0.18384529 1.53296618]\n",
      " [2.86383911        nan 3.43943113 3.42012219 4.40265355]\n",
      " [       nan 1.62695925 4.90500638 2.20908259 0.09323461]\n",
      " [4.43296646 0.61431998 0.23286075        nan 0.61411332]]\n"
     ]
    }
   ],
   "source": [
    "print(arr)"
   ]
  },
  {
   "cell_type": "code",
   "execution_count": 9,
   "id": "3768dc35-5b88-4e75-a1b5-729096a87e70",
   "metadata": {},
   "outputs": [
    {
     "name": "stdout",
     "output_type": "stream",
     "text": [
      "[[2.85113271 3.60784053 1.55534475 3.42075368 3.05921555]\n",
      " [0.96050226 0.3566602  1.83950483 0.18384529 1.53296618]\n",
      " [2.86383911 1.55144499 3.43943113 3.42012219 4.40265355]\n",
      " [2.77711013 1.62695925 4.90500638 2.20908259 0.09323461]\n",
      " [4.43296646 0.61431998 0.23286075 2.30845094 0.61411332]]\n"
     ]
    }
   ],
   "source": [
    "print(impy.mean(arr))"
   ]
  },
  {
   "cell_type": "code",
   "execution_count": null,
   "id": "437ea4b0-c122-4b52-a7ce-8b09b10ed8f5",
   "metadata": {},
   "outputs": [],
   "source": []
  }
 ],
 "metadata": {
  "kernelspec": {
   "display_name": "Python 3 (ipykernel)",
   "language": "python",
   "name": "python3"
  },
  "language_info": {
   "codemirror_mode": {
    "name": "ipython",
    "version": 3
   },
   "file_extension": ".py",
   "mimetype": "text/x-python",
   "name": "python",
   "nbconvert_exporter": "python",
   "pygments_lexer": "ipython3",
   "version": "3.8.11"
  }
 },
 "nbformat": 4,
 "nbformat_minor": 5
}
