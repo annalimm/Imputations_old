{
 "cells": [
  {
   "cell_type": "code",
   "execution_count": 1,
   "metadata": {},
   "outputs": [],
   "source": [
    "import numpy as np\n",
    "import pandas as pd\n",
    "import torch\n",
    "import os\n",
    "import matplotlib.pyplot as plt\n",
    "\n",
    "import sys \n",
    "sys.path.append('..')\n",
    "from tools import utils, amputation\n",
    "from alternative_imputers import muzellec_imputers\n",
    "from tools.utils import colors\n",
    "from tqdm import tqdm\n",
    "\n",
    "plt.style.use(utils.plot_style)\n",
    "\n",
    "from tools import imputation"
   ]
  },
  {
   "cell_type": "code",
   "execution_count": 2,
   "metadata": {},
   "outputs": [],
   "source": [
    "p_miss = [0.10]#, 0.40, 0.7]\n",
    "modes = ['mae']#, 'bayesianRidge'],\n",
    "mechas = ['MCAR', 'MAR', 'MNAR']\n",
    "imputer_names = ['mf', 'mean', 'ice', 'knn', 'mice', 'linearRR']"
   ]
  },
  {
   "cell_type": "code",
   "execution_count": 3,
   "metadata": {},
   "outputs": [],
   "source": [
    "import matplotlib.pyplot as plt\n",
    "import math\n",
    "import random\n",
    "\n",
    "x = []\n",
    "y = []\n",
    "z = []\n",
    "R = 10\n",
    "for i in range(1000):\n",
    "    theta = random.uniform(0,2*math.pi)\n",
    "    r = random.uniform(R/2,R)\n",
    "    hr = random.uniform(0,1)\n",
    "    x.append(math.sqrt(r*R)*math.cos(theta))\n",
    "    y.append(math.sqrt(r*R)*math.sin(theta))\n",
    "    z.append(hr)\n",
    "    \n",
    "for i in range(1000):\n",
    "    theta = random.uniform(0,2*math.pi)\n",
    "    r = random.uniform(R/8,R/4)\n",
    "    hr = random.uniform(0,1)\n",
    "    x.append(math.sqrt(r*R)*math.cos(theta))\n",
    "    y.append(math.sqrt(r*R)*math.sin(theta))\n",
    "    z.append(hr)\n",
    "\n",
    "dataset = np.vstack((x,y,z)).T\n",
    "\n"
   ]
  },
  {
   "cell_type": "code",
   "execution_count": null,
   "metadata": {},
   "outputs": [],
   "source": [
    "fig, ax = plt.subplots(figsize=(5,5))\n",
    "for (xi,yi,zi) in zip(x,y,z):\n",
    "    plt.scatter(xi,yi, alpha = zi, color='navy')\n",
    "plt.show()"
   ]
  },
  {
   "cell_type": "code",
   "execution_count": 8,
   "metadata": {},
   "outputs": [],
   "source": [
    "imputer_names = ['mice', 'knn', 'ice', 'mean']\n",
    "p_miss = 0.4\n",
    "mech = \"MAR\"\n",
    "ncols = len(mechas)\n",
    "datasets_miss_tot = []\n",
    "imps_tot = []\n",
    "for imputer_name in imputer_names:\n",
    "    datasets_miss = []\n",
    "    imps = []\n",
    "    for mech in mechas:\n",
    "        X_full, X_miss, mask, imp = imputation.impute(dataset, p_miss, mech, imputer_name)\n",
    "        datasets_miss.append(X_miss)\n",
    "        imps.append(imp)\n",
    "    datasets_miss_tot.append(datasets_miss)\n",
    "    imps_tot.append(imps)"
   ]
  },
  {
   "cell_type": "code",
   "execution_count": 17,
   "metadata": {},
   "outputs": [
    {
     "data": {
      "text/plain": [
       "array([0.77815714, 0.7078847 , 0.34882244, ..., 0.        , 0.61107828,\n",
       "       0.86046491])"
      ]
     },
     "execution_count": 17,
     "metadata": {},
     "output_type": "execute_result"
    }
   ],
   "source": []
  },
  {
   "cell_type": "code",
   "execution_count": 20,
   "metadata": {},
   "outputs": [],
   "source": [
    "for idx, imputer_name in enumerate(imputer_names):\n",
    "    fig, axs = plt.subplots(ncols=ncols, nrows = 2, figsize=(3*3,2 * 3))\n",
    "    st = fig.suptitle(f\"Imputer: {imputer_name}\", fontsize=\"x-large\")\n",
    "    for i in range(ncols):\n",
    "        # axs[0][i].plot(datasets_miss_tot[idx][i][:,0],datasets_miss_tot[idx][i][:,1], 'o')\n",
    "        for (xi,yi,zi) in zip(x,y,z):\n",
    "            axs[0][i].scatter(datasets_miss_tot[idx][i][:,0],datasets_miss_tot[idx][i][:,1], alpha = np.nan_to_num(datasets_miss_tot[idx][i][:,2]), color='navy')\n",
    "            axs[0][i].scatter(imps_tot[idx][i][:,0],imps_tot[idx][i][:,1], alpha = imps_tot[idx][i][:,2]/max(imps_tot[idx][i][:,2]), color='navy')\n",
    "    st.set_y(0.95)\n",
    "    fig.subplots_adjust(top=0.85)\n",
    "    plt.savefig(f\"figures/{mechas}, {np.array(p_miss)*100} %, impute: {imputer_name}_alphed.png\", dpi=200)\n",
    "    plt.tight_layout()"
   ]
  },
  {
   "cell_type": "code",
   "execution_count": null,
   "metadata": {},
   "outputs": [],
   "source": []
  }
 ],
 "metadata": {
  "interpreter": {
   "hash": "33d27e0b0f2f7de18c97883b105d2a38655729a870f4d8c8ca5d2b8ade76ede4"
  },
  "kernelspec": {
   "display_name": "Python 3.8.11 ('base')",
   "language": "python",
   "name": "python3"
  },
  "language_info": {
   "codemirror_mode": {
    "name": "ipython",
    "version": 3
   },
   "file_extension": ".py",
   "mimetype": "text/x-python",
   "name": "python",
   "nbconvert_exporter": "python",
   "pygments_lexer": "ipython3",
   "version": "3.8.11"
  },
  "orig_nbformat": 4
 },
 "nbformat": 4,
 "nbformat_minor": 2
}
