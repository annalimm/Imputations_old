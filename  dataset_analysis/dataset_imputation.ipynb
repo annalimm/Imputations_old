{
 "cells": [
  {
   "cell_type": "code",
   "execution_count": 1,
   "metadata": {},
   "outputs": [],
   "source": [
    "import numpy as np\n",
    "import pandas as pd\n",
    "import torch\n",
    "import os\n",
    "import matplotlib.pyplot as plt\n",
    "\n",
    "import sys \n",
    "sys.path.append('..')\n",
    "from tools import utils, amputation\n",
    "from alternative_imputers import muzellec_imputers\n",
    "from tools.utils import colors\n",
    "from tqdm import tqdm\n",
    "\n",
    "plt.style.use(utils.plot_style)\n",
    "\n",
    "from tools import imputation\n",
    "from sklearn.datasets import load_boston, load_wine, fetch_california_housing, load_iris, load_diabetes, load_linnerud\n",
    "from sklearn.preprocessing import StandardScaler, scale"
   ]
  },
  {
   "cell_type": "code",
   "execution_count": 2,
   "metadata": {},
   "outputs": [],
   "source": [
    "def get_data(dataset_name): \n",
    "    scaler = StandardScaler()\n",
    "    if dataset_name == 'boston':\n",
    "        X_full, y_full = load_boston(return_X_y=True)\n",
    "    elif dataset_name == 'california_housing':\n",
    "        X_full, y_full = fetch_california_housing(return_X_y = True)\n",
    "    elif dataset_name == 'wine':\n",
    "        X_full, y_full = load_wine(return_X_y=True)\n",
    "       \n",
    "    elif dataset_name == 'iris':\n",
    "        X_full, y_full = load_iris(return_X_y=True)\n",
    "    elif dataset_name == 'diabetes':\n",
    "        X_full, y_full = load_diabetes(return_X_y=True)\n",
    "        \n",
    "    if dataset_name == 'real':\n",
    "        curdir = os.getcwd()\n",
    "        os.chdir(\"..\")\n",
    "        X_full = np.genfromtxt(os.path.join('data', 'data_ivanovo.csv') , delimiter=';', skip_header=2)\n",
    "        df = pd.DataFrame(X_full)\n",
    "        df.dropna(axis=0, how='any', thresh=None, subset=None, inplace=True)\n",
    "        X_full = np.array(df)\n",
    "        X_full = scaler.fit_transform(X_full)\n",
    "        os.chdir(curdir)\n",
    "        return X_full.astype(np.float32), None\n",
    "    else:\n",
    "        X_full = scaler.fit_transform(X_full, y_full)\n",
    "        return scale(X_full).astype(np.float32), scale(y_full).astype(np.float32)"
   ]
  },
  {
   "cell_type": "code",
   "execution_count": 9,
   "metadata": {},
   "outputs": [
    {
     "ename": "AttributeError",
     "evalue": "'list' object has no attribute 'detach'",
     "output_type": "error",
     "traceback": [
      "\u001b[0;31m---------------------------------------------------------------------------\u001b[0m",
      "\u001b[0;31mAttributeError\u001b[0m                            Traceback (most recent call last)",
      "\u001b[0;32m/var/folders/x5/5h38s1dj3x9fg_bcxhwpds_c0000gn/T/ipykernel_9415/1899487660.py\u001b[0m in \u001b[0;36m<module>\u001b[0;34m\u001b[0m\n\u001b[0;32m----> 1\u001b[0;31m \u001b[0mnp\u001b[0m\u001b[0;34m.\u001b[0m\u001b[0mmean\u001b[0m\u001b[0;34m(\u001b[0m\u001b[0mmeans\u001b[0m\u001b[0;34m.\u001b[0m\u001b[0mdetach\u001b[0m\u001b[0;34m(\u001b[0m\u001b[0;34m)\u001b[0m\u001b[0;34m.\u001b[0m\u001b[0mnumpy\u001b[0m\u001b[0;34m(\u001b[0m\u001b[0;34m)\u001b[0m\u001b[0;34m)\u001b[0m\u001b[0;34m\u001b[0m\u001b[0;34m\u001b[0m\u001b[0m\n\u001b[0m",
      "\u001b[0;31mAttributeError\u001b[0m: 'list' object has no attribute 'detach'"
     ]
    }
   ],
   "source": [
    "np.mean(mean.detach().numpy())"
   ]
  },
  {
   "cell_type": "code",
   "execution_count": 3,
   "metadata": {},
   "outputs": [
    {
     "name": "stderr",
     "output_type": "stream",
     "text": [
      "100%|██████████| 9/9 [31:53<00:00, 212.57s/it]\n"
     ]
    }
   ],
   "source": [
    "n_impute = 1\n",
    "datasets = ['iris', 'diabetes', 'real']\n",
    "p_misses = [0.10]#, 0.40, 0.7]\n",
    "modes = ['mae']#, 'bayesianRidge'],\n",
    "mechas = ['MCAR']#, 'MAR', 'MNAR']\n",
    "imputer_names = ['mf', 'mean', 'linearRR']#'ice', 'knn', 'mice', , 'linearRR']\n",
    "\n",
    "params_grid = np.array(np.meshgrid(n_impute, datasets, p_misses, mechas, imputer_names, modes)).T.reshape(-1,6)\n",
    "params_grid = np.vstack((np.arange(params_grid.shape[0]), params_grid.T)).T\n",
    "\n",
    "results = []\n",
    "for param in tqdm(params_grid): ## tqdm -- progress bar\n",
    "    idx, n_impute, dataset_name, p_miss, mecha, imputer_name, mode = param    \n",
    "    means = []\n",
    "    imps = []\n",
    "    for i in range(int(n_impute)):\n",
    "        X_full, y_full = get_data(dataset_name)\n",
    "        X_full, X_miss, mask, imp = imputation.impute(X_full, p_miss = float(p_miss), mecha = mecha, imputer_name = imputer_name, mode= mode)\n",
    "        mean, std, imp = imputation.assess_impute(X_full, mask, imp, mode = 'mae', y_full = y_full)\n",
    "        means.append(mean)\n",
    "        imps.append(imp)\n",
    "    # means = [mean.detach().numpy() for mean in means]\n",
    "    results.append([idx, np.mean(means), np.std(means), np.mean(imps)])"
   ]
  },
  {
   "cell_type": "code",
   "execution_count": 4,
   "metadata": {},
   "outputs": [
    {
     "data": {
      "image/png": "[encoded data removed]",
      "text/plain": [
       "<Figure size 864x432 with 1 Axes>"
      ]
     },
     "metadata": {
      "needs_background": "light"
     },
     "output_type": "display_data"
    }
   ],
   "source": [
    "# mode_f = 'bayesianRidge'#'mae'\n",
    "\n",
    "for mode_f in modes:\n",
    "    for mech_f in mechas:\n",
    "        fig, ax = plt.subplots()\n",
    "        for idx_miss, p_miss_f in enumerate(p_misses):\n",
    "\n",
    "            # определяем переменные из params_grid (пр. строка)\n",
    "            subgroup = lambda idx, imp_meth: (params_grid[idx][-3] == mech_f) and (float(params_grid[idx][-4]) == p_miss_f) and (params_grid[idx][-2] == imp_meth) and (params_grid[idx][-1] == mode_f)\n",
    "\n",
    "            means = [res[1] for res in results]\n",
    "            stds = [res[2] for res in results]\n",
    "            labels = imputer_names\n",
    "\n",
    "            means_s = []\n",
    "            std_s = []\n",
    "            imp_meth_s = []\n",
    "\n",
    "            for imp_meth in imputer_names:\n",
    "                means_s.append([mean for idx, mean in enumerate(means) if subgroup(idx, imp_meth)])\n",
    "                std_s.append([std for idx, std in enumerate(stds) if subgroup(idx, imp_meth)])\n",
    "                imp_meth_s.append([params_grid[idx][-1] for idx, mean in enumerate(means) if subgroup(idx, imp_meth)])\n",
    "\n",
    "            x = np.arange(len(datasets))  # the label locations\n",
    "            width = 0.1  # the width of the bars\n",
    "\n",
    "            \n",
    "            rects = []\n",
    "            for idx, mean_i, std_i in zip(range(len(std_s)), means_s, std_s):\n",
    "                rects.append(ax.bar(x - width * idx, mean_i, width, yerr = std_i, label=labels[idx], capsize=5, alpha=np.linspace(1, 0.2, len(p_misses))[idx_miss], color = colors[idx], edgecolor='black'))\n",
    "\n",
    "            # Add some text for labels, title and custom x-axis tick labels, etc.\n",
    "            ax.set_ylabel('Scores')\n",
    "            ax.set_title(f\"{mech_f}, {(np.array(p_misses) * 100).astype(int)} %\")\n",
    "            ax.set_xticks(x)\n",
    "            ax.set_ylim(0, 1.5)\n",
    "            ax.set_xticklabels(datasets)\n",
    "            ax.legend(imputer_names)\n",
    "            ax.set_ylim(0)\n",
    "            # for rect in rects:\n",
    "            #     ax.bar_label(rect, padding=3)\n",
    "        plt.savefig(f\"figures/{mech_f}, {np.array(p_misses)*100} %, mode: {mode_f}_playMIDAS.png\", dpi=200)\n",
    "fig.tight_layout()\n",
    "plt.show()"
   ]
  },
  {
   "cell_type": "code",
   "execution_count": null,
   "metadata": {},
   "outputs": [],
   "source": []
  }
 ],
 "metadata": {
  "interpreter": {
   "hash": "12e126d7ff354fd812ac8ca1279c4c4d654f33e0321c7180cca9af1344d6418b"
  },
  "kernelspec": {
   "display_name": "Python 3.9.4",
   "language": "python",
   "name": "python3"
  },
  "language_info": {
   "codemirror_mode": {
    "name": "ipython",
    "version": 3
   },
   "file_extension": ".py",
   "mimetype": "text/x-python",
   "name": "python",
   "nbconvert_exporter": "python",
   "pygments_lexer": "ipython3",
   "version": "3.8.11"
  },
  "orig_nbformat": 4
 },
 "nbformat": 4,
 "nbformat_minor": 2
}
